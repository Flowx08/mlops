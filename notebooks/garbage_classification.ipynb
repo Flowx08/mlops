{
 "cells": [
  {
   "cell_type": "code",
   "execution_count": 25,
   "id": "6fe34c19",
   "metadata": {},
   "outputs": [
    {
     "name": "stdout",
     "output_type": "stream",
     "text": [
      "Requirement already satisfied: efficientnet_pytorch in /Users/carlo/opt/anaconda3/lib/python3.9/site-packages (0.7.1)\r\n",
      "Requirement already satisfied: torch in /Users/carlo/opt/anaconda3/lib/python3.9/site-packages (from efficientnet_pytorch) (1.13.1)\r\n",
      "Requirement already satisfied: typing-extensions in /Users/carlo/opt/anaconda3/lib/python3.9/site-packages (from torch->efficientnet_pytorch) (4.3.0)\r\n"
     ]
    }
   ],
   "source": [
    "!pip install efficientnet_pytorch"
   ]
  },
  {
   "cell_type": "code",
   "execution_count": 1,
   "id": "0e83fa94",
   "metadata": {},
   "outputs": [],
   "source": [
    "import torch\n",
    "from torchvision import datasets, transforms\n",
    "from efficientnet_pytorch import EfficientNet\n",
    "from torch import nn, optim\n",
    "from pytorch_lightning import LightningModule\n",
    "import torchmetrics\n",
    "from pytorch_lightning import Trainer\n",
    "from torch.utils.data import random_split"
   ]
  },
  {
   "cell_type": "code",
   "execution_count": 2,
   "id": "522684a8",
   "metadata": {},
   "outputs": [],
   "source": [
    "# Load data\n",
    "transform = transforms.Compose([transforms.Resize([224, 224]),\n",
    "                                 transforms.ToTensor()])\n",
    "dataset = datasets.ImageFolder('../data/raw/garbage/', transform=transform)\n",
    "dataloader = torch.utils.data.DataLoader(dataset, batch_size=32, shuffle=True)\n",
    "\n",
    "# Split the dataset into training and test sets\n",
    "train_size = int(0.8 * len(dataset))\n",
    "test_size = len(dataset) - train_size\n",
    "trainset, testset = random_split(dataset, [train_size, test_size])\n",
    "\n",
    "trainset_loader = torch.utils.data.DataLoader(trainset, batch_size=32, shuffle=True)\n",
    "testset_loader = torch.utils.data.DataLoader(testset, batch_size=32, shuffle=True)"
   ]
  },
  {
   "cell_type": "code",
   "execution_count": 3,
   "id": "3acbf69e",
   "metadata": {},
   "outputs": [],
   "source": [
    "class EfficientNetModel(LightningModule):\n",
    "    def __init__(self, num_classes, model_num=0):\n",
    "        super().__init__()\n",
    "        assert(model_num >= 0 and model_num <= 7)\n",
    "        \n",
    "        self.num_classes = num_classes\n",
    "        \n",
    "        # Load pre-trained model\n",
    "        self.ef = EfficientNet.from_pretrained('efficientnet-b{}'.format(model_num))\n",
    "        features_size = [1280, 1280, 1408, 1536, 1792, 2048, 2304, 2560]\n",
    "        \n",
    "        # Override last layer for garbage classification\n",
    "        self.ef._fc = nn.Sequential(nn.Linear(in_features=features_size[model_num], out_features=self.num_classes), nn.LogSoftmax(dim=-1))\n",
    "        \n",
    "        # Freeze weights of the model except for the last layer\n",
    "        for name, param in self.ef.named_parameters():\n",
    "            if name.split(\".\")[-1] not in [\"weight\", \"bias\"]:\n",
    "                param.requires_grad = False\n",
    "\n",
    "        # The last layer has different name than the previous layers\n",
    "        for name, param in self.ef._fc.named_parameters():\n",
    "            if name.split(\".\")[-1] in [\"weight\", \"bias\"]:\n",
    "                param.requires_grad = True\n",
    "        \n",
    "         # Define the data augmentation transforms\n",
    "        self.data_augumentation = transforms.Compose([\n",
    "            transforms.RandomRotation(degrees=90),\n",
    "            transforms.RandomAffine(degrees=0, translate=(0.2, 0.2), scale=(1, 1)),\n",
    "            transforms.RandomHorizontalFlip(),\n",
    "            transforms.RandomVerticalFlip()\n",
    "        ])\n",
    "        \n",
    "        self.criterion = nn.NLLLoss()\n",
    "\n",
    "    def foreward(self, x):\n",
    "        out = self.ef(x)\n",
    "        return out\n",
    "\n",
    "    def training_step(self, batch, batch_idx):\n",
    "        x, y = batch\n",
    "        x = self.data_augumentation(x)\n",
    "\n",
    "        logits = self.foreward(x)\n",
    "        loss = self.criterion(logits, torch.flatten(y))\n",
    "\n",
    "        preds = torch.argmax(logits, dim=1)\n",
    "        accuracy = torchmetrics.Accuracy(task=\"multiclass\", num_classes=self.num_classes)\n",
    "        acc = accuracy(preds, torch.flatten(y))\n",
    "\n",
    "        self.log(\"train_loss\", loss, on_step=True, on_epoch=True, logger=True)\n",
    "        self.log(\"train_acc\", acc, on_step=True, on_epoch=True, logger=True)\n",
    "\n",
    "        return loss\n",
    "\n",
    "    def validation_step(self, batch, batch_idx):\n",
    "        x, y = batch\n",
    "        logits = self.foreward(x)\n",
    "        loss = self.criterion(logits, torch.flatten(y))\n",
    "\n",
    "        preds = torch.argmax(logits, dim=1)\n",
    "        accuracy = torchmetrics.Accuracy(task=\"multiclass\", num_classes=self.num_classes)\n",
    "        acc = accuracy(preds, torch.flatten(y))\n",
    "\n",
    "        self.log(\"val_loss\", loss, prog_bar=True)\n",
    "        self.log(\"val_acc\", acc, prog_bar=True)\n",
    "\n",
    "        return loss\n",
    "\n",
    "    def test_step(self, batch, batch_idx):\n",
    "        x, y = batch\n",
    "        logits = self.foreward(x)\n",
    "        loss = self.criterion(logits, torch.flatten(y))\n",
    "\n",
    "        preds = torch.argmax(logits, dim=1)\n",
    "        accuracy = torchmetrics.Accuracy(task=\"multiclass\", num_classes=self.num_classes)\n",
    "        acc = accuracy(preds, torch.flatten(y))\n",
    "\n",
    "        self.log(\"test_loss\", loss, prog_bar=True)\n",
    "        self.log(\"test_acc\", acc, prog_bar=True)\n",
    "\n",
    "        return loss\n",
    "\n",
    "    def configure_optimizers(self):\n",
    "        return optim.Adam(self.parameters())\n"
   ]
  },
  {
   "cell_type": "code",
   "execution_count": 4,
   "id": "eac5115b",
   "metadata": {},
   "outputs": [
    {
     "name": "stderr",
     "output_type": "stream",
     "text": [
      "GPU available: False, used: False\n"
     ]
    },
    {
     "name": "stdout",
     "output_type": "stream",
     "text": [
      "Training...\n",
      "Loaded pretrained weights for efficientnet-b0\n"
     ]
    },
    {
     "name": "stderr",
     "output_type": "stream",
     "text": [
      "TPU available: False, using: 0 TPU cores\n",
      "IPU available: False, using: 0 IPUs\n",
      "HPU available: False, using: 0 HPUs\n",
      "/Users/carlo/opt/anaconda3/lib/python3.9/site-packages/pytorch_lightning/loops/utilities.py:94: PossibleUserWarning: `max_epochs` was not set. Setting it to 1000 epochs. To train without an epoch limit, set `max_epochs=-1`.\n",
      "  rank_zero_warn(\n",
      "\n",
      "  | Name      | Type         | Params\n",
      "-------------------------------------------\n",
      "0 | ef        | EfficientNet | 4.0 M \n",
      "1 | criterion | NLLLoss      | 0     \n",
      "-------------------------------------------\n",
      "4.0 M     Trainable params\n",
      "0         Non-trainable params\n",
      "4.0 M     Total params\n",
      "16.061    Total estimated model params size (MB)\n"
     ]
    },
    {
     "data": {
      "application/vnd.jupyter.widget-view+json": {
       "model_id": "",
       "version_major": 2,
       "version_minor": 0
      },
      "text/plain": [
       "Sanity Checking: 0it [00:00, ?it/s]"
      ]
     },
     "metadata": {},
     "output_type": "display_data"
    },
    {
     "name": "stderr",
     "output_type": "stream",
     "text": [
      "/Users/carlo/opt/anaconda3/lib/python3.9/site-packages/pytorch_lightning/trainer/connectors/data_connector.py:488: PossibleUserWarning: Your `val_dataloader`'s sampler has shuffling enabled, it is strongly recommended that you turn shuffling off for val/test/predict dataloaders.\n",
      "  rank_zero_warn(\n",
      "/Users/carlo/opt/anaconda3/lib/python3.9/site-packages/pytorch_lightning/trainer/connectors/data_connector.py:224: PossibleUserWarning: The dataloader, val_dataloader 0, does not have many workers which may be a bottleneck. Consider increasing the value of the `num_workers` argument` (try 8 which is the number of cpus on this machine) in the `DataLoader` init to improve performance.\n",
      "  rank_zero_warn(\n",
      "/Users/carlo/opt/anaconda3/lib/python3.9/site-packages/pytorch_lightning/trainer/connectors/data_connector.py:224: PossibleUserWarning: The dataloader, train_dataloader, does not have many workers which may be a bottleneck. Consider increasing the value of the `num_workers` argument` (try 8 which is the number of cpus on this machine) in the `DataLoader` init to improve performance.\n",
      "  rank_zero_warn(\n"
     ]
    },
    {
     "data": {
      "application/vnd.jupyter.widget-view+json": {
       "model_id": "a40e9c90127840bcbd5fb39f4e6c0132",
       "version_major": 2,
       "version_minor": 0
      },
      "text/plain": [
       "Training: 0it [00:00, ?it/s]"
      ]
     },
     "metadata": {},
     "output_type": "display_data"
    },
    {
     "data": {
      "application/vnd.jupyter.widget-view+json": {
       "model_id": "",
       "version_major": 2,
       "version_minor": 0
      },
      "text/plain": [
       "Validation: 0it [00:00, ?it/s]"
      ]
     },
     "metadata": {},
     "output_type": "display_data"
    },
    {
     "data": {
      "application/vnd.jupyter.widget-view+json": {
       "model_id": "",
       "version_major": 2,
       "version_minor": 0
      },
      "text/plain": [
       "Validation: 0it [00:00, ?it/s]"
      ]
     },
     "metadata": {},
     "output_type": "display_data"
    },
    {
     "data": {
      "application/vnd.jupyter.widget-view+json": {
       "model_id": "",
       "version_major": 2,
       "version_minor": 0
      },
      "text/plain": [
       "Validation: 0it [00:00, ?it/s]"
      ]
     },
     "metadata": {},
     "output_type": "display_data"
    },
    {
     "data": {
      "application/vnd.jupyter.widget-view+json": {
       "model_id": "",
       "version_major": 2,
       "version_minor": 0
      },
      "text/plain": [
       "Validation: 0it [00:00, ?it/s]"
      ]
     },
     "metadata": {},
     "output_type": "display_data"
    },
    {
     "data": {
      "application/vnd.jupyter.widget-view+json": {
       "model_id": "",
       "version_major": 2,
       "version_minor": 0
      },
      "text/plain": [
       "Validation: 0it [00:00, ?it/s]"
      ]
     },
     "metadata": {},
     "output_type": "display_data"
    },
    {
     "data": {
      "application/vnd.jupyter.widget-view+json": {
       "model_id": "",
       "version_major": 2,
       "version_minor": 0
      },
      "text/plain": [
       "Validation: 0it [00:00, ?it/s]"
      ]
     },
     "metadata": {},
     "output_type": "display_data"
    },
    {
     "data": {
      "application/vnd.jupyter.widget-view+json": {
       "model_id": "",
       "version_major": 2,
       "version_minor": 0
      },
      "text/plain": [
       "Validation: 0it [00:00, ?it/s]"
      ]
     },
     "metadata": {},
     "output_type": "display_data"
    },
    {
     "data": {
      "application/vnd.jupyter.widget-view+json": {
       "model_id": "",
       "version_major": 2,
       "version_minor": 0
      },
      "text/plain": [
       "Validation: 0it [00:00, ?it/s]"
      ]
     },
     "metadata": {},
     "output_type": "display_data"
    },
    {
     "data": {
      "application/vnd.jupyter.widget-view+json": {
       "model_id": "",
       "version_major": 2,
       "version_minor": 0
      },
      "text/plain": [
       "Validation: 0it [00:00, ?it/s]"
      ]
     },
     "metadata": {},
     "output_type": "display_data"
    },
    {
     "name": "stdout",
     "output_type": "stream",
     "text": [
      "Done\n"
     ]
    },
    {
     "name": "stderr",
     "output_type": "stream",
     "text": [
      "/Users/carlo/opt/anaconda3/lib/python3.9/site-packages/pytorch_lightning/trainer/call.py:48: UserWarning: Detected KeyboardInterrupt, attempting graceful shutdown...\n",
      "  rank_zero_warn(\"Detected KeyboardInterrupt, attempting graceful shutdown...\")\n"
     ]
    }
   ],
   "source": [
    "# Train\n",
    "print(\"Training...\")\n",
    "model = EfficientNetModel(6, model_num=0)\n",
    "trainer = Trainer()\n",
    "trainer.fit(model, trainset_loader, testset_loader)\n",
    "print(\"Done\")"
   ]
  },
  {
   "cell_type": "code",
   "execution_count": 16,
   "id": "54041079",
   "metadata": {},
   "outputs": [
    {
     "name": "stderr",
     "output_type": "stream",
     "text": [
      "GPU available: False, used: False\n",
      "TPU available: False, using: 0 TPU cores\n",
      "IPU available: False, using: 0 IPUs\n",
      "HPU available: False, using: 0 HPUs\n"
     ]
    },
    {
     "data": {
      "application/vnd.jupyter.widget-view+json": {
       "model_id": "c54c8ba169dc4387bba604f630fd6bbe",
       "version_major": 2,
       "version_minor": 0
      },
      "text/plain": [
       "Testing: 0it [00:00, ?it/s]"
      ]
     },
     "metadata": {},
     "output_type": "display_data"
    }
   ],
   "source": [
    "trainer = Trainer()\n",
    "trainer.test(model, testset_loader)"
   ]
  },
  {
   "cell_type": "code",
   "execution_count": null,
   "id": "4a2e735b",
   "metadata": {},
   "outputs": [],
   "source": []
  }
 ],
 "metadata": {
  "kernelspec": {
   "display_name": "Python 3 (ipykernel)",
   "language": "python",
   "name": "python3"
  },
  "language_info": {
   "codemirror_mode": {
    "name": "ipython",
    "version": 3
   },
   "file_extension": ".py",
   "mimetype": "text/x-python",
   "name": "python",
   "nbconvert_exporter": "python",
   "pygments_lexer": "ipython3",
   "version": "3.9.13"
  }
 },
 "nbformat": 4,
 "nbformat_minor": 5
}
